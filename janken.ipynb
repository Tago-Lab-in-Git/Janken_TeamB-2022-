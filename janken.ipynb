{
  "nbformat": 4,
  "nbformat_minor": 0,
  "metadata": {
    "colab": {
      "provenance": []
    },
    "kernelspec": {
      "name": "python3",
      "display_name": "Python 3"
    },
    "language_info": {
      "name": "python"
    }
  },
  "cells": [
    {
      "cell_type": "code",
      "execution_count": 25,
      "metadata": {
        "colab": {
          "base_uri": "https://localhost:8080/"
        },
        "id": "yQOS5E3GL2fD",
        "outputId": "34ec1ca8-903e-464a-98b4-4fd9d2928dbf"
      },
      "outputs": [
        {
          "output_type": "stream",
          "name": "stdout",
          "text": [
            "1\n",
            "タカハシはグーを出しました\n",
            "タニグチはチョキを出しました\n",
            "カタヤマはチョキを出しました\n",
            "[0, 1, 1]\n",
            "勝ち\n"
          ]
        }
      ],
      "source": [
        "import random\n",
        "from collections import Counter\n",
        "\n",
        "#参加者３人(a=タカハシ,b=タニグチ,c=カタヤマ)\n",
        "player=['タカハシ','タニグチ','カタヤマ']\n",
        "\n",
        "gu_flag =0\n",
        "choki_flag=0\n",
        "pa_flag = 0\n",
        "\n",
        "# 出す手の種類\n",
        "hands=['グー', 'チョキ', 'パー']\n",
        "\n",
        "#出す手の決定(ランダム)\n",
        "list_game = list()\n",
        "a=random.randrange(3)\n",
        "takahashi_hand=hands[a]\n",
        "\n",
        "b=random.randrange(3)\n",
        "taniguchi_hand=hands[b]\n",
        "\n",
        "c=random.randrange(3)\n",
        "katayama_hand=hands[c]\n",
        "\n",
        "list_game += [a,b,c]\n",
        "\n",
        "#名字とどの手を出すかを出力\n",
        "print(player[0]+'は'+takahashi_hand+'を出しました')\n",
        "print(player[1]+'は'+taniguchi_hand+'を出しました')\n",
        "print(player[2]+'は'+katayama_hand+'を出しました')\n",
        "\n",
        "if((a == 0) || (b == 0) || (c == 0)):\n",
        "  gu_flag = 1\n",
        "\n",
        "if ((a == 1) || (b == 1) || (c == 1)):\n",
        "  choki_flag = 1\n",
        "\n",
        "if((a == 2) || (b == 2) || (c == 2)):\n",
        "  choki_flag = 1\n",
        "\n",
        "if((gu_flag + choki_flag + pa_flag == 0) || (gu_flag + choki_flag + pa_flag == 3)):\n",
        "  print('あいこです')\n",
        "else:\n",
        "  if gu_flag = 1 && choki_flag = 1:\n",
        "    if a == 1:   \n",
        "\n",
        "print(list_game)\n",
        "\n",
        "count_game = Counter(list_game)\n",
        "\n"
      ]
    }
  ]
}